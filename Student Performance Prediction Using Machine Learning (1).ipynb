{
 "cells": [
  {
   "cell_type": "code",
   "execution_count": 108,
   "id": "904ebe70-e08e-4e01-83e6-db9d67ff80b8",
   "metadata": {},
   "outputs": [
    {
     "name": "stdout",
     "output_type": "stream",
     "text": [
      "Requirement already satisfied: pandas in c:\\users\\user\\anaconda3\\lib\\site-packages (2.2.2)\n",
      "Requirement already satisfied: numpy in c:\\users\\user\\anaconda3\\lib\\site-packages (1.26.4)\n",
      "Requirement already satisfied: matplotlib in c:\\users\\user\\anaconda3\\lib\\site-packages (3.8.4)\n",
      "Requirement already satisfied: seaborn in c:\\users\\user\\anaconda3\\lib\\site-packages (0.13.2)\n",
      "Requirement already satisfied: scikit-learn in c:\\users\\user\\anaconda3\\lib\\site-packages (1.4.2)\n",
      "Requirement already satisfied: python-dateutil>=2.8.2 in c:\\users\\user\\appdata\\roaming\\python\\python312\\site-packages (from pandas) (2.9.0.post0)\n",
      "Requirement already satisfied: pytz>=2020.1 in c:\\users\\user\\anaconda3\\lib\\site-packages (from pandas) (2024.1)\n",
      "Requirement already satisfied: tzdata>=2022.7 in c:\\users\\user\\anaconda3\\lib\\site-packages (from pandas) (2023.3)\n",
      "Requirement already satisfied: contourpy>=1.0.1 in c:\\users\\user\\anaconda3\\lib\\site-packages (from matplotlib) (1.2.0)\n",
      "Requirement already satisfied: cycler>=0.10 in c:\\users\\user\\anaconda3\\lib\\site-packages (from matplotlib) (0.11.0)\n",
      "Requirement already satisfied: fonttools>=4.22.0 in c:\\users\\user\\anaconda3\\lib\\site-packages (from matplotlib) (4.51.0)\n",
      "Requirement already satisfied: kiwisolver>=1.3.1 in c:\\users\\user\\anaconda3\\lib\\site-packages (from matplotlib) (1.4.4)\n",
      "Requirement already satisfied: packaging>=20.0 in c:\\users\\user\\appdata\\roaming\\python\\python312\\site-packages (from matplotlib) (24.1)\n",
      "Requirement already satisfied: pillow>=8 in c:\\users\\user\\anaconda3\\lib\\site-packages (from matplotlib) (10.3.0)\n",
      "Requirement already satisfied: pyparsing>=2.3.1 in c:\\users\\user\\anaconda3\\lib\\site-packages (from matplotlib) (3.0.9)\n",
      "Requirement already satisfied: scipy>=1.6.0 in c:\\users\\user\\anaconda3\\lib\\site-packages (from scikit-learn) (1.13.1)\n",
      "Requirement already satisfied: joblib>=1.2.0 in c:\\users\\user\\anaconda3\\lib\\site-packages (from scikit-learn) (1.4.2)\n",
      "Requirement already satisfied: threadpoolctl>=2.0.0 in c:\\users\\user\\anaconda3\\lib\\site-packages (from scikit-learn) (2.2.0)\n",
      "Requirement already satisfied: six>=1.5 in c:\\users\\user\\appdata\\roaming\\python\\python312\\site-packages (from python-dateutil>=2.8.2->pandas) (1.16.0)\n"
     ]
    }
   ],
   "source": [
    "!pip install pandas numpy matplotlib seaborn scikit-learn\n"
   ]
  },
  {
   "cell_type": "code",
   "execution_count": 109,
   "id": "a02606b2-0b6e-4f88-8ee5-e0b9f1d536af",
   "metadata": {},
   "outputs": [
    {
     "name": "stdout",
     "output_type": "stream",
     "text": [
      "Downloading student-mat.csv...\n",
      "Downloading student-por.csv...\n",
      "Download complete!\n"
     ]
    }
   ],
   "source": [
    "import urllib\n",
    "\n",
    "urls = {\n",
    "    \"student-mat.csv\": \"https://raw.githubusercontent.com/arunk13/MSDA-Assignments/master/IS607Fall2015/Assignment3/student-mat.csv\",\n",
    "    \"student-por.csv\": \"https://raw.githubusercontent.com/arunk13/MSDA-Assignments/master/IS607Fall2015/Assignment3/student-por.csv\"\n",
    "}\n",
    "\n",
    "for fname, url in urls.items():\n",
    "    print(f\"Downloading {fname}...\")\n",
    "    urllib.request.urlretrieve(url, fname)\n",
    "print(\"Download complete!\")\n"
   ]
  },
  {
   "cell_type": "code",
   "execution_count": null,
   "id": "40688e4f-7183-46bb-b8ed-ac82d2e15781",
   "metadata": {},
   "outputs": [],
   "source": [
    "import pandas as pd\n",
    "\n",
    "df = pd.read_csv(\"student-mat.csv\", sep=\";\")\n",
    "df.head()\n",
    "#Load the Dataset"
   ]
  },
  {
   "cell_type": "code",
   "execution_count": null,
   "id": "07ec2141-6f66-4fcb-b6b5-8435d8e04bf6",
   "metadata": {},
   "outputs": [],
   "source": [
    "# Check structure\n",
    "df.info()\n"
   ]
  },
  {
   "cell_type": "code",
   "execution_count": null,
   "id": "8bf7f25b-e74c-499c-9b79-b1a559441db3",
   "metadata": {},
   "outputs": [],
   "source": [
    "# Summary statistics for numerical columns\n",
    "df.describe()\n"
   ]
  },
  {
   "cell_type": "code",
   "execution_count": null,
   "id": "b7311332-8349-41b8-839a-6f4ccd73324f",
   "metadata": {},
   "outputs": [],
   "source": [
    "# Check for null values\n",
    "df.isnull().sum()\n"
   ]
  },
  {
   "cell_type": "code",
   "execution_count": null,
   "id": "31f5ba68-fb93-442e-8073-21312bfba202",
   "metadata": {},
   "outputs": [],
   "source": [
    "# First 5 rows\n",
    "df.head()\n"
   ]
  },
  {
   "cell_type": "code",
   "execution_count": null,
   "id": "63cc9bad-65d9-4048-bee9-9dc51acb6dfe",
   "metadata": {},
   "outputs": [],
   "source": [
    "import matplotlib.pyplot as plt\n",
    "import seaborn as sns\n",
    "\n",
    "sns.boxplot(x='studytime', y='G3', data=df)\n",
    "plt.title('Study Time vs Final Grade')\n",
    "plt.show()\n"
   ]
  },
  {
   "cell_type": "code",
   "execution_count": null,
   "id": "11ba13d6-5862-4ffb-867f-9847c6e566bc",
   "metadata": {},
   "outputs": [],
   "source": [
    "# Only numeric columns\n",
    "correlation_matrix = df.corr()\n",
    "\n",
    "plt.figure(figsize=(14, 10))\n",
    "sns.heatmap(correlation_matrix, annot=True, cmap='coolwarm')\n",
    "plt.title('Correlation Matrix')\n",
    "plt.show()\n"
   ]
  },
  {
   "cell_type": "code",
   "execution_count": null,
   "id": "68f64d2c-8d7f-4dde-8643-ee4e8b29665a",
   "metadata": {},
   "outputs": [],
   "source": [
    "# Select only numeric columns\n",
    "numeric_df = df.select_dtypes(include=['number'])\n",
    "\n",
    "# Correlation matrix\n",
    "correlation_matrix = numeric_df.corr()\n",
    "\n",
    "# Plot the heatmap\n",
    "import matplotlib.pyplot as plt\n",
    "import seaborn as sns\n",
    "\n",
    "plt.figure(figsize=(14, 10))\n",
    "sns.heatmap(correlation_matrix, annot=True, cmap='coolwarm')\n",
    "plt.title('Correlation Matrix of Numeric Features')\n",
    "plt.show()\n"
   ]
  },
  {
   "cell_type": "code",
   "execution_count": null,
   "id": "12a2d1ad-fe6f-4e2f-abcf-5b56ccad0004",
   "metadata": {},
   "outputs": [],
   "source": [
    "# One-hot encode all categorical variables\n",
    "df_encoded = pd.get_dummies(df, drop_first=True)\n",
    "df_encoded.head()\n"
   ]
  },
  {
   "cell_type": "code",
   "execution_count": null,
   "id": "9f48b53d-1736-4090-8103-6764922cae95",
   "metadata": {},
   "outputs": [],
   "source": [
    "X = df_encoded.drop('G3', axis=1)\n",
    "y = df_encoded['G3']\n"
   ]
  },
  {
   "cell_type": "code",
   "execution_count": null,
   "id": "c0c9cbb1-732d-40ba-a06e-2d5866159eb7",
   "metadata": {},
   "outputs": [],
   "source": [
    "from sklearn.model_selection import train_test_split\n",
    "\n",
    "# 80% training, 20% testing\n",
    "X_train, X_test, y_train, y_test = train_test_split(X, y, test_size=0.2, random_state=42)\n"
   ]
  },
  {
   "cell_type": "code",
   "execution_count": null,
   "id": "3ea546a4-ef0c-4bc1-b455-d24dc6fee8cb",
   "metadata": {},
   "outputs": [],
   "source": [
    "from sklearn.ensemble import RandomForestRegressor\n",
    "\n",
    "# Create and train the model\n",
    "model = RandomForestRegressor(n_estimators=100, random_state=42)\n",
    "model.fit(X_train, y_train)\n"
   ]
  },
  {
   "cell_type": "code",
   "execution_count": null,
   "id": "c901c592-d88c-4862-b480-699ae7cceb9a",
   "metadata": {},
   "outputs": [],
   "source": [
    "# Predict final grades\n",
    "y_pred = model.predict(X_test)\n"
   ]
  },
  {
   "cell_type": "code",
   "execution_count": null,
   "id": "19b3f1d8-4e7b-442d-bcb1-d480aa0f8d82",
   "metadata": {},
   "outputs": [],
   "source": [
    "from sklearn.metrics import mean_squared_error, r2_score\n",
    "\n",
    "r2 = r2_score(y_test, y_pred)\n",
    "mse = mean_squared_error(y_test, y_pred)\n",
    "\n",
    "print(\"R² Score:\", r2)\n",
    "print(\"Mean Squared Error:\", mse)\n"
   ]
  },
  {
   "cell_type": "code",
   "execution_count": null,
   "id": "5380f1f7-898c-400d-906c-7e768a85b301",
   "metadata": {},
   "outputs": [],
   "source": [
    "import pandas as pd\n",
    "import matplotlib.pyplot as plt\n",
    "\n",
    "# Get feature importances from the model\n",
    "feature_importance = model.feature_importances_\n",
    "\n",
    "# Create a DataFrame for better readability\n",
    "features_df = pd.DataFrame({\n",
    "    'Feature': X.columns,\n",
    "    'Importance': feature_importance\n",
    "}).sort_values(by='Importance', ascending=False)\n",
    "\n",
    "# Plot the top 10 features\n",
    "plt.figure(figsize=(10,6))\n",
    "plt.barh(features_df['Feature'][:10][::-1], features_df['Importance'][:10][::-1])\n",
    "plt.title('Top 10 Important Features Predicting Final Grade (G3)')\n",
    "plt.xlabel('Importance Score')\n",
    "plt.show()\n"
   ]
  },
  {
   "cell_type": "code",
   "execution_count": null,
   "id": "1bdc62b0-82cd-4cb1-9620-8db7a09a33f0",
   "metadata": {},
   "outputs": [],
   "source": [
    "# Add predictions to the original dataset\n",
    "df_encoded['Predicted_Grade'] = model.predict(X)\n",
    "\n",
    "# Save to CSV\n",
    "df_encoded.to_csv(\"student_predictions.csv\", index=False)\n"
   ]
  },
  {
   "cell_type": "code",
   "execution_count": null,
   "id": "598781a1-0fd9-4373-93b6-9ff56f6eb336",
   "metadata": {},
   "outputs": [],
   "source": [
    "# Save the DataFrame (with predictions) to a CSV file\n",
    "df_encoded['Predicted_Grade'] = model.predict(X)\n",
    "df_encoded.to_csv(\"student_predictions.csv\", index=False)\n",
    "\n",
    "print(\"✅ File saved successfully as 'student_predictions.csv'\")\n"
   ]
  },
  {
   "cell_type": "code",
   "execution_count": null,
   "id": "a9788e88-7e75-4741-8e96-943623f0cc19",
   "metadata": {},
   "outputs": [],
   "source": [
    "import os\n",
    "os.getcwd()\n"
   ]
  },
  {
   "cell_type": "code",
   "execution_count": null,
   "id": "de908ad5-b780-46ce-a06d-6dac3abf1ebe",
   "metadata": {},
   "outputs": [],
   "source": [
    "import pandas as pd\n",
    "\n",
    "# Assuming your DataFrame is named df\n",
    "df.to_csv(\"student_predictions_final.csv\", index=False, encoding='utf-8')\n",
    "print(\"Saved as student_predictions_final.csv\")\n"
   ]
  },
  {
   "cell_type": "code",
   "execution_count": null,
   "id": "4d2b49de-3621-4c74-a878-4fb7babce235",
   "metadata": {},
   "outputs": [],
   "source": [
    "import os\n",
    "\n",
    "# List all CSV files in current folder\n",
    "csv_files = [f for f in os.listdir() if f.endswith('.csv')]\n",
    "print(\"CSV files in current folder:\", csv_files)\n"
   ]
  },
  {
   "cell_type": "code",
   "execution_count": null,
   "id": "fab38863-7f50-46ed-8a6f-2d14b279d570",
   "metadata": {},
   "outputs": [],
   "source": [
    "# Re-save your DataFrame properly formatted for Power BI\n",
    "df.to_csv(\"student_predictions_clean.csv\", index=False, encoding='utf-8-sig')\n"
   ]
  },
  {
   "cell_type": "code",
   "execution_count": null,
   "id": "7b269131-c528-445e-9ba0-a176fd5f2804",
   "metadata": {},
   "outputs": [],
   "source": [
    "# Students who scored 10 or more in G3 pass, others fail\n",
    "df['Prediction'] = df['G3'].apply(lambda x: 'Pass' if x >= 10 else 'Fail')\n"
   ]
  },
  {
   "cell_type": "code",
   "execution_count": null,
   "id": "b286d97c-6f4c-4ce6-92cd-294070eece28",
   "metadata": {},
   "outputs": [],
   "source": [
    "import seaborn as sns\n",
    "import matplotlib.pyplot as plt\n",
    "\n",
    "plt.figure(figsize=(6,4))\n",
    "sns.countplot(x='Prediction', data=df, palette='Set2')\n",
    "plt.title('Pass vs Fail Distribution')\n",
    "plt.xlabel('Prediction')\n",
    "plt.ylabel('Number of Students')\n",
    "plt.show()\n"
   ]
  },
  {
   "cell_type": "code",
   "execution_count": 114,
   "id": "d5b5bb7e-af25-48e5-b2ad-4e6ee2d55a40",
   "metadata": {},
   "outputs": [],
   "source": [
    "df.to_csv('student_performance.csv', index=False)\n"
   ]
  },
  {
   "cell_type": "code",
   "execution_count": null,
   "id": "fbe1b47c-5349-43f7-a94a-f8edd774ff80",
   "metadata": {},
   "outputs": [],
   "source": []
  }
 ],
 "metadata": {
  "kernelspec": {
   "display_name": "Python 3 (ipykernel)",
   "language": "python",
   "name": "python3"
  },
  "language_info": {
   "codemirror_mode": {
    "name": "ipython",
    "version": 3
   },
   "file_extension": ".py",
   "mimetype": "text/x-python",
   "name": "python",
   "nbconvert_exporter": "python",
   "pygments_lexer": "ipython3",
   "version": "3.12.4"
  }
 },
 "nbformat": 4,
 "nbformat_minor": 5
}
